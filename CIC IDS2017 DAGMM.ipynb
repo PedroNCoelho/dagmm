{
 "cells": [
  {
   "cell_type": "markdown",
   "metadata": {},
   "source": [
    "# Deep Autoencoding Gaussian Mixture Model for Unsupervised Anomaly Detection"
   ]
  },
  {
   "cell_type": "code",
   "execution_count": null,
   "metadata": {},
   "outputs": [],
   "source": [
    "import numpy as np \n",
    "import pandas as pd\n",
    "from data_loader import *\n",
    "from main import *"
   ]
  },
  {
   "cell_type": "markdown",
   "metadata": {},
   "source": [
    "## CIC IDS2017"
   ]
  },
  {
   "cell_type": "code",
   "execution_count": 2,
   "metadata": {},
   "outputs": [],
   "source": [
    "class hyperparams():\n",
    "    def __init__(self, config):\n",
    "        self.__dict__.update(**config)\n",
    "defaults = {\n",
    "    'lr' : 1e-4,\n",
    "    'num_epochs' : 2,\n",
    "    'batch_size' : 1024,\n",
    "    'gmm_k' : 4,\n",
    "    'lambda_energy' : 0.1,\n",
    "    'lambda_cov_diag' : 0.005,\n",
    "    'pretrained_model' : None,\n",
    "    'mode' : 'train',\n",
    "    'use_tensorboard' : False,\n",
    "    'data_path' : './data',\n",
    "    'ds': 'cicids2017',\n",
    "\n",
    "    'log_path' : './dagmm/logs',\n",
    "    'model_save_path' : './dagmm/models',\n",
    "    'sample_path' : './dagmm/samples',\n",
    "    'test_sample_path' : './dagmm/test_samples',\n",
    "    'result_path' : './dagmm/results',\n",
    "\n",
    "    'log_step' : None,\n",
    "    'sample_step' : 194,\n",
    "    'model_save_step' : 194,\n",
    "}"
   ]
  },
  {
   "cell_type": "code",
   "execution_count": 3,
   "metadata": {
    "scrolled": false
   },
   "outputs": [
    {
     "name": "stdout",
     "output_type": "stream",
     "text": [
      "DaGMM\n",
      "DaGMM(\n",
      "  (encoder): Sequential(\n",
      "    (0): Linear(in_features=77, out_features=60, bias=True)\n",
      "    (1): Tanh()\n",
      "    (2): Linear(in_features=60, out_features=30, bias=True)\n",
      "    (3): Tanh()\n",
      "    (4): Linear(in_features=30, out_features=10, bias=True)\n",
      "    (5): Tanh()\n",
      "    (6): Linear(in_features=10, out_features=1, bias=True)\n",
      "  )\n",
      "  (decoder): Sequential(\n",
      "    (0): Linear(in_features=1, out_features=10, bias=True)\n",
      "    (1): Tanh()\n",
      "    (2): Linear(in_features=10, out_features=30, bias=True)\n",
      "    (3): Tanh()\n",
      "    (4): Linear(in_features=30, out_features=60, bias=True)\n",
      "    (5): Tanh()\n",
      "    (6): Linear(in_features=60, out_features=77, bias=True)\n",
      "  )\n",
      "  (estimation): Sequential(\n",
      "    (0): Linear(in_features=3, out_features=10, bias=True)\n",
      "    (1): Tanh()\n",
      "    (2): Dropout(p=0.5, inplace=False)\n",
      "    (3): Linear(in_features=10, out_features=4, bias=True)\n",
      "    (4): Softmax(dim=1)\n",
      "  )\n",
      ")\n",
      "The number of parameters: 13822\n"
     ]
    },
    {
     "name": "stderr",
     "output_type": "stream",
     "text": [
      "100%|██████████| 518/518 [00:10<00:00, 49.70it/s]\n",
      "100%|██████████| 518/518 [00:09<00:00, 52.13it/s]\n"
     ]
    },
    {
     "name": "stdout",
     "output_type": "stream",
     "text": [
      "======================TEST MODE======================\n",
      "N: 529481\n",
      "phi :\n",
      " tensor([0.2752, 0.1372, 0.3324, 0.2552], device='cuda:0',\n",
      "       grad_fn=<DivBackward0>)\n",
      "mu :\n",
      " tensor([[ 0.2248,  1.6692, -0.2704],\n",
      "        [ 0.3192,  1.5797, -0.1960],\n",
      "        [ 0.2104,  1.6924, -0.2851],\n",
      "        [ 0.2346,  1.6660, -0.2648]], device='cuda:0', grad_fn=<DivBackward0>)\n",
      "cov :\n",
      " tensor([[[ 0.3950, -0.4448,  0.3357],\n",
      "         [-0.4448,  0.5862, -0.4077],\n",
      "         [ 0.3357, -0.4077,  0.2957]],\n",
      "\n",
      "        [[ 0.4153, -0.4488,  0.3465],\n",
      "         [-0.4488,  0.5682, -0.4034],\n",
      "         [ 0.3465, -0.4034,  0.2991]],\n",
      "\n",
      "        [[ 0.3971, -0.4506,  0.3387],\n",
      "         [-0.4506,  0.5936, -0.4130],\n",
      "         [ 0.3387, -0.4130,  0.2989]],\n",
      "\n",
      "        [[ 0.4022, -0.4513,  0.3413],\n",
      "         [-0.4513,  0.5894, -0.4118],\n",
      "         [ 0.3413, -0.4118,  0.2997]]], device='cuda:0',\n",
      "       grad_fn=<DivBackward0>)\n"
     ]
    }
   ],
   "source": [
    "solver = main(hyperparams(defaults))\n",
    "all_scores = solver.test(energy_only=True)"
   ]
  },
  {
   "cell_type": "code",
   "execution_count": 7,
   "metadata": {},
   "outputs": [],
   "source": [
    "label_names = ['BENIGN','FTP-Patator','SSH-Patator','DoS slowloris','DoS Slowhttptest','DoS Hulk','DoS GoldenEye',\n",
    "          'Heartbleed','Web Attack','Infiltration', 'Bot', 'PortScan', 'DDoS']"
   ]
  },
  {
   "cell_type": "code",
   "execution_count": 9,
   "metadata": {},
   "outputs": [],
   "source": [
    "y_test = solver.data_loader.dataset.real_test_labels"
   ]
  },
  {
   "cell_type": "code",
   "execution_count": 10,
   "metadata": {},
   "outputs": [
    {
     "name": "stdout",
     "output_type": "stream",
     "text": [
      "6.719545\n"
     ]
    }
   ],
   "source": [
    "fpr = 0.01\n",
    "benign_scores = all_scores[y_test=='BENIGN']\n",
    "benign_scores_sorted = np.sort(benign_scores)\n",
    "thr_ind = int(np.ceil(len(benign_scores_sorted)*fpr))\n",
    "thr = benign_scores_sorted[-thr_ind]\n",
    "print (thr)"
   ]
  },
  {
   "cell_type": "code",
   "execution_count": 11,
   "metadata": {},
   "outputs": [
    {
     "name": "stdout",
     "output_type": "stream",
     "text": [
      "FPR: 0.0100\n",
      "FTP-Patator: 0.0103\n",
      "SSH-Patator: 0.0097\n",
      "DoS slowloris: nan\n",
      "DoS Slowhttptest: nan\n",
      "DoS Hulk: nan\n",
      "DoS GoldenEye: nan\n",
      "Heartbleed: nan\n",
      "Infiltration: 0.0278\n",
      "Bot: nan\n",
      "PortScan: nan\n",
      "DDoS: nan\n"
     ]
    },
    {
     "name": "stderr",
     "output_type": "stream",
     "text": [
      "/tmp/ipykernel_19716/2539190723.py:10: RuntimeWarning: invalid value encountered in divide\n",
      "  tpr = \"{0:0.4f}\".format(np.sum(scores>=thr)/(0. + len(scores)))\n"
     ]
    }
   ],
   "source": [
    "for i in range(len(label_names)):\n",
    "    #### Exclude web attacks from results\n",
    "    if label_names[i].find('Web')>=0:\n",
    "        continue\n",
    "    scores = all_scores[y_test==label_names[i]]\n",
    "    if i==0:\n",
    "        fpr = \"{0:0.4f}\".format(np.sum(scores>=thr)/(0. + len(scores)))\n",
    "        print('FPR:',fpr)\n",
    "    else:\n",
    "        tpr = \"{0:0.4f}\".format(np.sum(scores>=thr)/(0. + len(scores)))\n",
    "        print(label_names[i]+':',tpr)"
   ]
  }
 ],
 "metadata": {
  "kernelspec": {
   "display_name": "pykan-dev",
   "language": "python",
   "name": "python3"
  },
  "language_info": {
   "codemirror_mode": {
    "name": "ipython",
    "version": 3
   },
   "file_extension": ".py",
   "mimetype": "text/x-python",
   "name": "python",
   "nbconvert_exporter": "python",
   "pygments_lexer": "ipython3",
   "version": "3.12.2"
  }
 },
 "nbformat": 4,
 "nbformat_minor": 2
}
